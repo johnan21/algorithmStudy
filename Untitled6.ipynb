{
 "cells": [
  {
   "cell_type": "code",
   "execution_count": 1,
   "id": "92359623-abfd-49e9-993c-cd09be577a8b",
   "metadata": {},
   "outputs": [],
   "source": [
    "#점프 투 파이썬\n",
    "#2장 파이썬 프로그래밍의 기초, 자료형\n",
    "#2-2 문자열 자료형"
   ]
  },
  {
   "cell_type": "code",
   "execution_count": null,
   "id": "7e923857-f606-4b3d-bef4-083b0ecb1175",
   "metadata": {},
   "outputs": [],
   "source": []
  },
  {
   "cell_type": "code",
   "execution_count": 2,
   "id": "2ac09db9-2764-4739-b61e-449408f95881",
   "metadata": {},
   "outputs": [],
   "source": [
    "corpus = \"I hope to master python ASAP\""
   ]
  },
  {
   "cell_type": "code",
   "execution_count": 3,
   "id": "f3b6dc1b-9af8-48d4-ad75-5693c7619fe1",
   "metadata": {},
   "outputs": [
    {
     "data": {
      "text/plain": [
       "'P'"
      ]
     },
     "execution_count": 3,
     "metadata": {},
     "output_type": "execute_result"
    }
   ],
   "source": [
    "corpus[-1] #negative sign to read from the back, with -1 being the last letter not -0"
   ]
  },
  {
   "cell_type": "markdown",
   "id": "7b1ce9e3-97eb-40e5-ab2f-daf98e2c85ba",
   "metadata": {},
   "source": [
    "#### 문자열 슬라이싱이란?"
   ]
  },
  {
   "cell_type": "code",
   "execution_count": 5,
   "id": "343bfeb5-4eb9-457c-9622-b21d80f24023",
   "metadata": {},
   "outputs": [],
   "source": [
    "#한 단어를 뽑아내려면 어떻게?"
   ]
  },
  {
   "cell_type": "code",
   "execution_count": 10,
   "id": "a9372018-dfdc-4bfb-9b32-2fccc598b960",
   "metadata": {},
   "outputs": [
    {
     "data": {
      "text/plain": [
       "'hope'"
      ]
     },
     "execution_count": 10,
     "metadata": {},
     "output_type": "execute_result"
    }
   ],
   "source": [
    "corpus_word = corpus[2:6] #from index[2] to index[6], where index[6] is not included\n",
    "#think of string slicing [2:6] as 2 <= x < 6\n",
    "corpus_word"
   ]
  },
  {
   "cell_type": "code",
   "execution_count": 11,
   "id": "3ef1c7a5-e796-44d1-951f-a6e0055730a2",
   "metadata": {},
   "outputs": [],
   "source": [
    "# a = Pithon 이라는 문자열을 Python으로 바꾸려면?"
   ]
  },
  {
   "cell_type": "code",
   "execution_count": 12,
   "id": "990a8d7a-afc3-43de-a5e1-c73812f59d91",
   "metadata": {},
   "outputs": [],
   "source": [
    "# 얼핏생각하면 a[1] = y 라는 식으로 i를 y로 바꾸면 될 것같지만 안된다. \n",
    "# Why? cuz an element of a string cannot be replaced or changed, meaning 'immutable'\n",
    "# However, you can create 'Python' by slicing parts of variable 'a'"
   ]
  },
  {
   "cell_type": "code",
   "execution_count": 14,
   "id": "2c6c7c4e-1b36-431f-8b7e-8eefa1455a9c",
   "metadata": {},
   "outputs": [
    {
     "data": {
      "text/plain": [
       "'Pithon'"
      ]
     },
     "execution_count": 14,
     "metadata": {},
     "output_type": "execute_result"
    }
   ],
   "source": [
    "a = 'Pithon'\n",
    "a"
   ]
  },
  {
   "cell_type": "code",
   "execution_count": 15,
   "id": "0bc4800b-55dd-4869-a9e7-28b859b32b4e",
   "metadata": {},
   "outputs": [
    {
     "data": {
      "text/plain": [
       "'Python'"
      ]
     },
     "execution_count": 15,
     "metadata": {},
     "output_type": "execute_result"
    }
   ],
   "source": [
    "a[0] + 'y' + a[2:]"
   ]
  },
  {
   "cell_type": "code",
   "execution_count": 16,
   "id": "c9f8677d-d645-442c-b65d-82c899a7ceda",
   "metadata": {},
   "outputs": [
    {
     "data": {
      "text/plain": [
       "'Pithon'"
      ]
     },
     "execution_count": 16,
     "metadata": {},
     "output_type": "execute_result"
    }
   ],
   "source": [
    "a[:]"
   ]
  },
  {
   "cell_type": "code",
   "execution_count": 17,
   "id": "e6a97406-2ce2-47c2-888c-1e17855f5fb0",
   "metadata": {},
   "outputs": [],
   "source": [
    "#문자열 포매팅 따라하기\n",
    "#1.숫자 바로 대입"
   ]
  },
  {
   "cell_type": "code",
   "execution_count": 19,
   "id": "8a17a1b8-97fd-4b20-8fd8-6f876003c411",
   "metadata": {},
   "outputs": [
    {
     "data": {
      "text/plain": [
       "'Today is the 15th day'"
      ]
     },
     "execution_count": 19,
     "metadata": {},
     "output_type": "execute_result"
    }
   ],
   "source": [
    "\"Today is the %dth day\" %15"
   ]
  },
  {
   "cell_type": "code",
   "execution_count": 20,
   "id": "5f64cecc-0129-47c4-9664-280f11e2e746",
   "metadata": {},
   "outputs": [],
   "source": [
    "#2. 문자열 바로 대입"
   ]
  },
  {
   "cell_type": "code",
   "execution_count": 23,
   "id": "52c8bb65-5ac3-45d5-b21b-6b6309d341bc",
   "metadata": {},
   "outputs": [
    {
     "data": {
      "text/plain": [
       "'Today is the fifteenth day'"
      ]
     },
     "execution_count": 23,
     "metadata": {},
     "output_type": "execute_result"
    }
   ],
   "source": [
    "\"Today is the %sth day\" %\"fifteen\""
   ]
  },
  {
   "cell_type": "code",
   "execution_count": 24,
   "id": "21cdb81e-bc89-44be-9848-6f02d2edb5b2",
   "metadata": {},
   "outputs": [],
   "source": [
    "#3. 숫자 값을 나타내는 변수로 대입"
   ]
  },
  {
   "cell_type": "code",
   "execution_count": 27,
   "id": "5d3165c7-be80-4844-866a-b3ea73902782",
   "metadata": {},
   "outputs": [
    {
     "data": {
      "text/plain": [
       "'Today is the 15th day'"
      ]
     },
     "execution_count": 27,
     "metadata": {},
     "output_type": "execute_result"
    }
   ],
   "source": [
    "number = 15\n",
    "\"Today is the %dth day\" %number"
   ]
  },
  {
   "cell_type": "code",
   "execution_count": 28,
   "id": "a5f4d634-b0b5-48b0-8080-6568c4b8c6a6",
   "metadata": {},
   "outputs": [],
   "source": [
    "#4. 2개 이상의 값 넣기"
   ]
  },
  {
   "cell_type": "code",
   "execution_count": 30,
   "id": "1bd5ca73-3ff3-4f6e-97f4-ec38f045de15",
   "metadata": {},
   "outputs": [
    {
     "data": {
      "text/plain": [
       "'Today is the 15th day of twentieth century'"
      ]
     },
     "execution_count": 30,
     "metadata": {},
     "output_type": "execute_result"
    }
   ],
   "source": [
    "number = 15\n",
    "year = \"twentieth century\"\n",
    "\"Today is the %dth day of %s\" %(number,year)"
   ]
  },
  {
   "cell_type": "code",
   "execution_count": 31,
   "id": "f97fac04-d362-43db-b974-0e6200ccdd5b",
   "metadata": {},
   "outputs": [],
   "source": [
    "# 문자열 포맷 코드...\n",
    "# % 문자 그 자체를 사용하고 싶을 때는?"
   ]
  },
  {
   "cell_type": "code",
   "execution_count": 32,
   "id": "9366a8f2-7092-40cf-9fe8-93a500280c9a",
   "metadata": {},
   "outputs": [
    {
     "data": {
      "text/plain": [
       "'I am 100% ready today'"
      ]
     },
     "execution_count": 32,
     "metadata": {},
     "output_type": "execute_result"
    }
   ],
   "source": [
    "\"I am %d%% ready today\" %100"
   ]
  },
  {
   "cell_type": "markdown",
   "id": "b23b3073-80d4-42b2-bfea-0bdf30eb8255",
   "metadata": {},
   "source": [
    "#### 포맷 코드와 숫자 함께 사용하기"
   ]
  },
  {
   "cell_type": "code",
   "execution_count": 35,
   "id": "0d171f9f-10fa-4831-9088-fa28e7671f3d",
   "metadata": {},
   "outputs": [],
   "source": [
    "#1. 정렬과 공백"
   ]
  },
  {
   "cell_type": "code",
   "execution_count": 38,
   "id": "e49a7d9f-a0ba-42f0-9143-12e773f343a9",
   "metadata": {},
   "outputs": [
    {
     "data": {
      "text/plain": [
       "'        hi'"
      ]
     },
     "execution_count": 38,
     "metadata": {},
     "output_type": "execute_result"
    }
   ],
   "source": [
    "\"%10s\" %\"hi\" #공백 먼저"
   ]
  },
  {
   "cell_type": "code",
   "execution_count": 39,
   "id": "6b6080ae-ed22-4259-88c3-e23af8530444",
   "metadata": {},
   "outputs": [
    {
     "data": {
      "text/plain": [
       "'hi        '"
      ]
     },
     "execution_count": 39,
     "metadata": {},
     "output_type": "execute_result"
    }
   ],
   "source": [
    "\"%-10s\" %\"hi\" #문자 먼저"
   ]
  },
  {
   "cell_type": "code",
   "execution_count": 40,
   "id": "8e9dfdb0-93ac-45db-9340-2e6b97e7cdc0",
   "metadata": {},
   "outputs": [],
   "source": [
    "#2. 소수점 표현하기"
   ]
  },
  {
   "cell_type": "code",
   "execution_count": 79,
   "id": "3f33db03-44ee-431c-989f-5282b5049ff8",
   "metadata": {},
   "outputs": [
    {
     "data": {
      "text/plain": [
       "'3.51234123123'"
      ]
     },
     "execution_count": 79,
     "metadata": {},
     "output_type": "execute_result"
    }
   ],
   "source": [
    "\"%0.11f\" %3.51234123123"
   ]
  },
  {
   "cell_type": "code",
   "execution_count": 76,
   "id": "4c2192ed-7950-4c3e-b64a-bf15200e6f41",
   "metadata": {},
   "outputs": [
    {
     "data": {
      "text/plain": [
       "'3.5123    '"
      ]
     },
     "execution_count": 76,
     "metadata": {},
     "output_type": "execute_result"
    }
   ],
   "source": [
    "\"%-10.4f\" %3.51234123123"
   ]
  },
  {
   "cell_type": "markdown",
   "id": "8c87afe8-4ee5-4316-b6b5-bd04e3893be2",
   "metadata": {},
   "source": [
    "#### format 함수를 사용한 포매팅"
   ]
  },
  {
   "cell_type": "code",
   "execution_count": 53,
   "id": "4f87fa5f-69a1-4de0-908e-63c1789d8fd5",
   "metadata": {},
   "outputs": [],
   "source": [
    "#1. 숫자 바로 대입하기"
   ]
  },
  {
   "cell_type": "code",
   "execution_count": 55,
   "id": "6780999a-261c-440d-9f0c-136375bb5ac4",
   "metadata": {},
   "outputs": [
    {
     "data": {
      "text/plain": [
       "'This is the 15th day'"
      ]
     },
     "execution_count": 55,
     "metadata": {},
     "output_type": "execute_result"
    }
   ],
   "source": [
    "\"This is the {0}th day\".format(15)"
   ]
  },
  {
   "cell_type": "code",
   "execution_count": null,
   "id": "82403a83-3694-450d-8cea-c8fa53980d38",
   "metadata": {},
   "outputs": [],
   "source": [
    "#문자열 바로 대입하기"
   ]
  },
  {
   "cell_type": "code",
   "execution_count": 56,
   "id": "05211da8-beea-40c1-bf98-422d342d9763",
   "metadata": {},
   "outputs": [
    {
     "data": {
      "text/plain": [
       "'This is the fifteenth day'"
      ]
     },
     "execution_count": 56,
     "metadata": {},
     "output_type": "execute_result"
    }
   ],
   "source": [
    "\"This is the {0}th day\".format(\"fifteen\")"
   ]
  },
  {
   "cell_type": "code",
   "execution_count": null,
   "id": "4bed0e52-f042-48ff-b1ba-b4ee353a2eee",
   "metadata": {},
   "outputs": [],
   "source": [
    "#숫자 값을 가진 변수로 대입하기"
   ]
  },
  {
   "cell_type": "code",
   "execution_count": 57,
   "id": "d7956fef-79c0-48a3-8900-6cc7ff87551c",
   "metadata": {},
   "outputs": [
    {
     "data": {
      "text/plain": [
       "'This is the 15th day'"
      ]
     },
     "execution_count": 57,
     "metadata": {},
     "output_type": "execute_result"
    }
   ],
   "source": [
    "number = 15\n",
    "\"This is the {0}th day\".format(number)"
   ]
  },
  {
   "cell_type": "code",
   "execution_count": 58,
   "id": "5a62a25f-32da-4c97-88f9-7308ca508ae3",
   "metadata": {},
   "outputs": [],
   "source": [
    "#2개 이상의 값 넣기"
   ]
  },
  {
   "cell_type": "code",
   "execution_count": 60,
   "id": "9c951168-51ad-477e-884e-50330909c802",
   "metadata": {},
   "outputs": [
    {
     "data": {
      "text/plain": [
       "'This is the 15th day of twentieth century'"
      ]
     },
     "execution_count": 60,
     "metadata": {},
     "output_type": "execute_result"
    }
   ],
   "source": [
    "number = 15\n",
    "era = \"twentieth century\"\n",
    "\"This is the {0}th day of {1}\".format(number,era)"
   ]
  },
  {
   "cell_type": "code",
   "execution_count": 62,
   "id": "f3f0da87-4c44-4baa-a859-8afb9f38c500",
   "metadata": {},
   "outputs": [],
   "source": [
    "#이름으로 넣기"
   ]
  },
  {
   "cell_type": "code",
   "execution_count": 61,
   "id": "08f0dfe1-952a-42a6-9670-60d75c30d974",
   "metadata": {},
   "outputs": [
    {
     "data": {
      "text/plain": [
       "'This is the 15th day of twentieth century'"
      ]
     },
     "execution_count": 61,
     "metadata": {},
     "output_type": "execute_result"
    }
   ],
   "source": [
    "\"This is the {number}th day of {era}\".format(number=15,era=\"twentieth century\")"
   ]
  },
  {
   "cell_type": "code",
   "execution_count": 63,
   "id": "a6798217-d7d0-4911-8c87-13d13b7a127a",
   "metadata": {},
   "outputs": [],
   "source": [
    "#인덱스와 이름을 혼용해서 넣기"
   ]
  },
  {
   "cell_type": "code",
   "execution_count": 64,
   "id": "9f70b746-74d8-4d2d-841d-b7275f76c538",
   "metadata": {},
   "outputs": [
    {
     "data": {
      "text/plain": [
       "'This is the 15th day of twentieth century'"
      ]
     },
     "execution_count": 64,
     "metadata": {},
     "output_type": "execute_result"
    }
   ],
   "source": [
    "\"This is the {0}th day of {era}\".format(15, era=\"twentieth century\")"
   ]
  },
  {
   "cell_type": "code",
   "execution_count": 65,
   "id": "051fdf23-3475-45ca-b47d-009ee5235344",
   "metadata": {},
   "outputs": [],
   "source": [
    "#왼쪽 정렬"
   ]
  },
  {
   "cell_type": "code",
   "execution_count": 66,
   "id": "7c23cbe7-a8de-4ac7-80f5-08b4af9e734b",
   "metadata": {},
   "outputs": [
    {
     "data": {
      "text/plain": [
       "'hi        '"
      ]
     },
     "execution_count": 66,
     "metadata": {},
     "output_type": "execute_result"
    }
   ],
   "source": [
    "\"{0:<10}\".format(\"hi\") # :<10 표현식을 사용하면 치환되는 문자열을 왼쪽으로 정렬하고 문자열의 총 자릿수를\n",
    "#10으로 맞출 수 있다."
   ]
  },
  {
   "cell_type": "code",
   "execution_count": null,
   "id": "d8d82b8b-80cb-4ed5-986e-1f6ce455cbb6",
   "metadata": {},
   "outputs": [],
   "source": [
    "#가운데 정렬"
   ]
  },
  {
   "cell_type": "code",
   "execution_count": 67,
   "id": "dc79670e-ae50-4975-981f-ecf35eca6dfe",
   "metadata": {},
   "outputs": [
    {
     "data": {
      "text/plain": [
       "'        hi'"
      ]
     },
     "execution_count": 67,
     "metadata": {},
     "output_type": "execute_result"
    }
   ],
   "source": [
    "\"{0:>10}\".format(\"hi\") #문자열을 오른쪽으로 정렬"
   ]
  },
  {
   "cell_type": "code",
   "execution_count": 68,
   "id": "1d2a05b4-2e5e-4579-beb4-e091ebcf0060",
   "metadata": {},
   "outputs": [],
   "source": [
    "#가운데 정렬"
   ]
  },
  {
   "cell_type": "code",
   "execution_count": 71,
   "id": "179a9679-6955-478a-be11-26587e09aeeb",
   "metadata": {},
   "outputs": [
    {
     "data": {
      "text/plain": [
       "'     hi      '"
      ]
     },
     "execution_count": 71,
     "metadata": {},
     "output_type": "execute_result"
    }
   ],
   "source": [
    "\"{0:^10}\".format(\"hi\")"
   ]
  },
  {
   "cell_type": "code",
   "execution_count": 72,
   "id": "6b178020-a59f-4faf-8554-1170ce8ec618",
   "metadata": {},
   "outputs": [],
   "source": [
    "#공백 채우기"
   ]
  },
  {
   "cell_type": "code",
   "execution_count": 73,
   "id": "6dea1e78-3622-4d3a-898e-b80251553fac",
   "metadata": {},
   "outputs": [
    {
     "data": {
      "text/plain": [
       "'========hi'"
      ]
     },
     "execution_count": 73,
     "metadata": {},
     "output_type": "execute_result"
    }
   ],
   "source": [
    "\"{0:=>10}\".format(\"hi\")"
   ]
  },
  {
   "cell_type": "code",
   "execution_count": 74,
   "id": "c84a8b84-9021-4237-9936-7847fc5e6672",
   "metadata": {},
   "outputs": [
    {
     "data": {
      "text/plain": [
       "'hi!!!!!!!!'"
      ]
     },
     "execution_count": 74,
     "metadata": {},
     "output_type": "execute_result"
    }
   ],
   "source": [
    "\"{0:!<10}\".format(\"hi\")"
   ]
  },
  {
   "cell_type": "code",
   "execution_count": 75,
   "id": "e80076f8-57b5-4c9c-8dbd-d8c0253e4429",
   "metadata": {},
   "outputs": [],
   "source": [
    "#소수점 포현하기"
   ]
  },
  {
   "cell_type": "code",
   "execution_count": 80,
   "id": "b5deca3b-b072-4798-adb9-af222dd57a17",
   "metadata": {},
   "outputs": [
    {
     "data": {
      "text/plain": [
       "'3.4213'"
      ]
     },
     "execution_count": 80,
     "metadata": {},
     "output_type": "execute_result"
    }
   ],
   "source": [
    "y = 3.42134234\n",
    "\"{0:0.4f}\".format(y)"
   ]
  },
  {
   "cell_type": "code",
   "execution_count": 83,
   "id": "28393a7d-e1c1-440c-93d3-d24da61b11c3",
   "metadata": {},
   "outputs": [
    {
     "data": {
      "text/plain": [
       "'    3.4213'"
      ]
     },
     "execution_count": 83,
     "metadata": {},
     "output_type": "execute_result"
    }
   ],
   "source": [
    "\"{0:10.4f}\".format(y)"
   ]
  },
  {
   "cell_type": "code",
   "execution_count": 84,
   "id": "7d2d0076-7a36-4ba3-a876-4b02032abfde",
   "metadata": {},
   "outputs": [
    {
     "data": {
      "text/plain": [
       "'3.4213    '"
      ]
     },
     "execution_count": 84,
     "metadata": {},
     "output_type": "execute_result"
    }
   ],
   "source": [
    "\"{0:<10.4f}\".format(y)"
   ]
  },
  {
   "cell_type": "code",
   "execution_count": 85,
   "id": "63bfa30c-c89d-477c-9cea-44e904326013",
   "metadata": {},
   "outputs": [
    {
     "data": {
      "text/plain": [
       "'3.4213===='"
      ]
     },
     "execution_count": 85,
     "metadata": {},
     "output_type": "execute_result"
    }
   ],
   "source": [
    "\"{0:=<10.4f}\".format(y)"
   ]
  },
  {
   "cell_type": "code",
   "execution_count": 86,
   "id": "d5d797ca-3b89-4afc-91df-2c068eaeb956",
   "metadata": {},
   "outputs": [
    {
     "data": {
      "text/plain": [
       "'{ and }'"
      ]
     },
     "execution_count": 86,
     "metadata": {},
     "output_type": "execute_result"
    }
   ],
   "source": [
    "\"{{ and }}\".format(y)"
   ]
  },
  {
   "cell_type": "markdown",
   "id": "0f44ca69-445f-4aa1-a679-a492606de7be",
   "metadata": {},
   "source": [
    "#### f 문자열 포매팅"
   ]
  },
  {
   "cell_type": "code",
   "execution_count": 87,
   "id": "6e108ac4-739e-4d14-942c-05efcc449743",
   "metadata": {},
   "outputs": [],
   "source": [
    "# 이 기능은 파이썬 3.6버전부터 사용 가능."
   ]
  },
  {
   "cell_type": "code",
   "execution_count": 88,
   "id": "93065b24-80ca-4102-936d-db238990a48e",
   "metadata": {},
   "outputs": [
    {
     "data": {
      "text/plain": [
       "\"my girl's name is 고지논 and she is 25 years old.\""
      ]
     },
     "execution_count": 88,
     "metadata": {},
     "output_type": "execute_result"
    }
   ],
   "source": [
    "name = \"고지논\"\n",
    "age = 25\n",
    "f\"my girl's name is {name} and she is {age} years old.\""
   ]
  },
  {
   "cell_type": "code",
   "execution_count": 91,
   "id": "d0db7124-eda6-432d-8175-ba16146ae8e7",
   "metadata": {},
   "outputs": [
    {
     "data": {
      "text/plain": [
       "'and she is turning 26 next year.'"
      ]
     },
     "execution_count": 91,
     "metadata": {},
     "output_type": "execute_result"
    }
   ],
   "source": [
    "f\"and she is turning {age+1} next year.\""
   ]
  },
  {
   "cell_type": "code",
   "execution_count": 92,
   "id": "f460e30a-9489-409f-bb8a-0c434eb0dc8f",
   "metadata": {},
   "outputs": [],
   "source": [
    "#딕셔너리는 f문자열 포매팅에서 다음과 같이 사용할 수 있다."
   ]
  },
  {
   "cell_type": "code",
   "execution_count": 119,
   "id": "dcb56841-568a-4f30-a9d3-901ed7c4fc40",
   "metadata": {},
   "outputs": [
    {
     "data": {
      "text/plain": [
       "'my girls name is 고지논 and she is 25 years old'"
      ]
     },
     "execution_count": 119,
     "metadata": {},
     "output_type": "execute_result"
    }
   ],
   "source": [
    "dict = {\"name\":\"고지논\", \"age\":25}\n",
    "f'my girls name is {dict[\"name\"]} and she is {dict[\"age\"]} years old'"
   ]
  },
  {
   "cell_type": "code",
   "execution_count": 115,
   "id": "2608b850-6fd8-4628-9903-6818817916fa",
   "metadata": {},
   "outputs": [
    {
     "data": {
      "text/plain": [
       "'나의 이름은 홍길동입니다. 나이는 30입니다.'"
      ]
     },
     "execution_count": 115,
     "metadata": {},
     "output_type": "execute_result"
    }
   ],
   "source": [
    " d = {'name':'홍길동', 'age':30}\n",
    "f'나의 이름은 {d[\"name\"]}입니다. 나이는 {d[\"age\"]}입니다.'"
   ]
  },
  {
   "cell_type": "markdown",
   "id": "ffa6abf9-b6d4-4113-9f5b-09ebd7569a36",
   "metadata": {},
   "source": [
    "### 문자열 관련 함수들"
   ]
  },
  {
   "cell_type": "code",
   "execution_count": 120,
   "id": "99bfdcf5-1cde-4b33-8e81-dd5894df5bfb",
   "metadata": {},
   "outputs": [],
   "source": [
    "# 문자 개수 세기(count)"
   ]
  },
  {
   "cell_type": "code",
   "execution_count": 121,
   "id": "4a621ab3-57e4-40af-94ee-67b668c6a9b0",
   "metadata": {},
   "outputs": [
    {
     "data": {
      "text/plain": [
       "2"
      ]
     },
     "execution_count": 121,
     "metadata": {},
     "output_type": "execute_result"
    }
   ],
   "source": [
    "a = \"hobby\"\n",
    "a.count('b')"
   ]
  },
  {
   "cell_type": "code",
   "execution_count": 122,
   "id": "a2bb2c5e-f551-44d5-9ce0-1ac0f828fd56",
   "metadata": {},
   "outputs": [],
   "source": [
    "# 위치 알려주기1(find)"
   ]
  },
  {
   "cell_type": "code",
   "execution_count": 123,
   "id": "da6e4b53-c6f8-442d-a682-585cae737d36",
   "metadata": {},
   "outputs": [
    {
     "data": {
      "text/plain": [
       "14"
      ]
     },
     "execution_count": 123,
     "metadata": {},
     "output_type": "execute_result"
    }
   ],
   "source": [
    "a = \"Python is the best choice\"\n",
    "a.find('b')"
   ]
  },
  {
   "cell_type": "code",
   "execution_count": 125,
   "id": "484df26e-baa0-4a63-9284-fecf93f3a4a0",
   "metadata": {},
   "outputs": [
    {
     "data": {
      "text/plain": [
       "3"
      ]
     },
     "execution_count": 125,
     "metadata": {},
     "output_type": "execute_result"
    }
   ],
   "source": [
    "a.count(\"e\")"
   ]
  },
  {
   "cell_type": "code",
   "execution_count": 126,
   "id": "7873e975-0fa3-482c-a435-8ce5b099a384",
   "metadata": {},
   "outputs": [
    {
     "data": {
      "text/plain": [
       "-1"
      ]
     },
     "execution_count": 126,
     "metadata": {},
     "output_type": "execute_result"
    }
   ],
   "source": [
    "a.find('l') #만약 문자열에 찾는 알파벳이 없다면? -1을 리턴."
   ]
  },
  {
   "cell_type": "code",
   "execution_count": 127,
   "id": "9660d4b1-f1d1-4f74-9838-83d0329a061f",
   "metadata": {},
   "outputs": [],
   "source": [
    "a = \"Life is too short\""
   ]
  },
  {
   "cell_type": "code",
   "execution_count": 128,
   "id": "b9c2b2bc-5ca8-4593-88f1-ce6e62e86512",
   "metadata": {},
   "outputs": [
    {
     "data": {
      "text/plain": [
       "8"
      ]
     },
     "execution_count": 128,
     "metadata": {},
     "output_type": "execute_result"
    }
   ],
   "source": [
    "a.index('t')"
   ]
  },
  {
   "cell_type": "code",
   "execution_count": 129,
   "id": "860c4e12-9fff-48a8-aca2-b9c14912a0e9",
   "metadata": {},
   "outputs": [
    {
     "ename": "ValueError",
     "evalue": "substring not found",
     "output_type": "error",
     "traceback": [
      "\u001b[1;31m---------------------------------------------------------------------------\u001b[0m",
      "\u001b[1;31mValueError\u001b[0m                                Traceback (most recent call last)",
      "\u001b[1;32m<ipython-input-129-cb6c8ec35229>\u001b[0m in \u001b[0;36m<module>\u001b[1;34m\u001b[0m\n\u001b[1;32m----> 1\u001b[1;33m \u001b[0ma\u001b[0m\u001b[1;33m.\u001b[0m\u001b[0mindex\u001b[0m\u001b[1;33m(\u001b[0m\u001b[1;34m'k'\u001b[0m\u001b[1;33m)\u001b[0m\u001b[1;33m\u001b[0m\u001b[1;33m\u001b[0m\u001b[0m\n\u001b[0m",
      "\u001b[1;31mValueError\u001b[0m: substring not found"
     ]
    }
   ],
   "source": [
    "a.index('k')"
   ]
  },
  {
   "cell_type": "markdown",
   "id": "b9e3756e-efc8-44e1-9a1b-2cd1d7e7d8d3",
   "metadata": {},
   "source": [
    "#### 문자열 삽입(join)"
   ]
  },
  {
   "cell_type": "code",
   "execution_count": 130,
   "id": "6024cb05-cff3-4be0-a459-2af2f9f5c851",
   "metadata": {},
   "outputs": [
    {
     "data": {
      "text/plain": [
       "'a,b,c,d'"
      ]
     },
     "execution_count": 130,
     "metadata": {},
     "output_type": "execute_result"
    }
   ],
   "source": [
    "\",\".join(\"abcd\")"
   ]
  },
  {
   "cell_type": "code",
   "execution_count": 131,
   "id": "55e45458-00a0-4f17-a2d3-5991748bcf37",
   "metadata": {},
   "outputs": [
    {
     "data": {
      "text/plain": [
       "'a,b,c,d'"
      ]
     },
     "execution_count": 131,
     "metadata": {},
     "output_type": "execute_result"
    }
   ],
   "source": [
    "\",\".join(['a','b','c','d'])"
   ]
  },
  {
   "cell_type": "code",
   "execution_count": 135,
   "id": "238cd336-ee4b-4c49-8cc8-7247278ce4bd",
   "metadata": {},
   "outputs": [
    {
     "data": {
      "text/plain": [
       "'1,2,3,4'"
      ]
     },
     "execution_count": 135,
     "metadata": {},
     "output_type": "execute_result"
    }
   ],
   "source": [
    "\",\".join(\"1234\")"
   ]
  },
  {
   "cell_type": "code",
   "execution_count": 133,
   "id": "046cdf73-f6c7-4362-9d04-b92ab86fcd8b",
   "metadata": {},
   "outputs": [
    {
     "data": {
      "text/plain": [
       "'1,2,3,4'"
      ]
     },
     "execution_count": 133,
     "metadata": {},
     "output_type": "execute_result"
    }
   ],
   "source": [
    "\",\".join(['1','2','3','4'])"
   ]
  },
  {
   "cell_type": "markdown",
   "id": "1a9ac25c-3ada-4faf-bb1b-376b3712d7d1",
   "metadata": {},
   "source": [
    "#### 소문자를 대문자로 바꾸기(upper)"
   ]
  },
  {
   "cell_type": "code",
   "execution_count": 136,
   "id": "f1814aa1-e4d6-4507-a286-ddd23c002c54",
   "metadata": {},
   "outputs": [
    {
     "data": {
      "text/plain": [
       "'HI'"
      ]
     },
     "execution_count": 136,
     "metadata": {},
     "output_type": "execute_result"
    }
   ],
   "source": [
    "a = 'hi'\n",
    "a.upper()"
   ]
  },
  {
   "cell_type": "code",
   "execution_count": 138,
   "id": "91a6f4e6-f584-4ce2-9614-364a5169f528",
   "metadata": {},
   "outputs": [
    {
     "data": {
      "text/plain": [
       "'hi'"
      ]
     },
     "execution_count": 138,
     "metadata": {},
     "output_type": "execute_result"
    }
   ],
   "source": [
    "a = \"HI\"\n",
    "a.lower()"
   ]
  },
  {
   "cell_type": "code",
   "execution_count": 145,
   "id": "4218ecc2-5b39-458b-98b4-d68aab2f2d22",
   "metadata": {},
   "outputs": [],
   "source": [
    "a = \"{0:^10}\".format(10)"
   ]
  },
  {
   "cell_type": "code",
   "execution_count": 146,
   "id": "a42ab1f3-3476-4363-a651-7f6c3d5023e8",
   "metadata": {},
   "outputs": [
    {
     "data": {
      "text/plain": [
       "'    10    '"
      ]
     },
     "execution_count": 146,
     "metadata": {},
     "output_type": "execute_result"
    }
   ],
   "source": [
    "a"
   ]
  },
  {
   "cell_type": "code",
   "execution_count": 147,
   "id": "c1cdcd0b-5e77-4f46-bbd9-c5d7c3ba6399",
   "metadata": {},
   "outputs": [
    {
     "data": {
      "text/plain": [
       "'10    '"
      ]
     },
     "execution_count": 147,
     "metadata": {},
     "output_type": "execute_result"
    }
   ],
   "source": [
    "a.lstrip()"
   ]
  },
  {
   "cell_type": "code",
   "execution_count": 150,
   "id": "5da38737-7677-4f31-ba6c-a8923758545e",
   "metadata": {},
   "outputs": [
    {
     "data": {
      "text/plain": [
       "'    10'"
      ]
     },
     "execution_count": 150,
     "metadata": {},
     "output_type": "execute_result"
    }
   ],
   "source": [
    "a.rstrip()"
   ]
  },
  {
   "cell_type": "code",
   "execution_count": 151,
   "id": "8b769e74-8203-4ae1-a679-d6918f61dbb0",
   "metadata": {},
   "outputs": [
    {
     "data": {
      "text/plain": [
       "'10'"
      ]
     },
     "execution_count": 151,
     "metadata": {},
     "output_type": "execute_result"
    }
   ],
   "source": [
    "a.strip()"
   ]
  },
  {
   "cell_type": "markdown",
   "id": "51378075-15b8-4e77-b4c5-6068af1974c9",
   "metadata": {},
   "source": [
    "#### 문자열 바꾸기(replace)"
   ]
  },
  {
   "cell_type": "code",
   "execution_count": 152,
   "id": "a5b674a1-9805-496e-a61c-13259503c9e6",
   "metadata": {},
   "outputs": [],
   "source": [
    "a = \"Life is too short\""
   ]
  },
  {
   "cell_type": "code",
   "execution_count": 154,
   "id": "dfc7a2fc-b857-4071-a63b-febf453c6f87",
   "metadata": {},
   "outputs": [
    {
     "data": {
      "text/plain": [
       "'Your Leg is too short'"
      ]
     },
     "execution_count": 154,
     "metadata": {},
     "output_type": "execute_result"
    }
   ],
   "source": [
    "a.replace(\"Life\",\"Your Leg\")"
   ]
  },
  {
   "cell_type": "code",
   "execution_count": 156,
   "id": "ab4a4922-51a7-4569-91f3-fb1197baf356",
   "metadata": {},
   "outputs": [
    {
     "data": {
      "text/plain": [
       "['Life', 'is', 'too', 'short']"
      ]
     },
     "execution_count": 156,
     "metadata": {},
     "output_type": "execute_result"
    }
   ],
   "source": [
    "a.split()"
   ]
  },
  {
   "cell_type": "code",
   "execution_count": 157,
   "id": "7302feb8-b335-4115-8041-e57e6fbf61c6",
   "metadata": {},
   "outputs": [],
   "source": [
    "b = \"a:b:c:d\""
   ]
  },
  {
   "cell_type": "code",
   "execution_count": 158,
   "id": "8c40250e-b8a2-4d59-a604-1cf63cdc69e4",
   "metadata": {},
   "outputs": [
    {
     "data": {
      "text/plain": [
       "['a', 'b', 'c', 'd']"
      ]
     },
     "execution_count": 158,
     "metadata": {},
     "output_type": "execute_result"
    }
   ],
   "source": [
    "b.split(':')"
   ]
  },
  {
   "cell_type": "code",
   "execution_count": 159,
   "id": "31f13615-6125-4cbe-b0aa-865dfecb7a0d",
   "metadata": {},
   "outputs": [],
   "source": [
    "##### 파이썬_알고리즘 p.138 유효한 팰린드롬"
   ]
  },
  {
   "cell_type": "code",
   "execution_count": 13,
   "id": "5ee59d0b-501d-49ba-b4a1-b7126408b81b",
   "metadata": {},
   "outputs": [],
   "source": [
    "s = \"A man, a plan, a canal: Panama\""
   ]
  },
  {
   "cell_type": "code",
   "execution_count": 87,
   "id": "2ae4d73f-b98a-471a-a113-c50df0acb323",
   "metadata": {},
   "outputs": [],
   "source": [
    "def validPalindrome(s):\n",
    "    result = []\n",
    "    \n",
    "    for char in s:\n",
    "        if char.isalnum():\n",
    "            result.append(char.lower())\n",
    "            \n",
    "    while len(result) > 1:\n",
    "        if result.pop(0) != result.pop():\n",
    "            return False\n",
    "            \n",
    "    return True\n",
    "\n",
    "\n"
   ]
  },
  {
   "cell_type": "code",
   "execution_count": 91,
   "id": "5c5a90c4-910d-462a-add3-6c561f68df95",
   "metadata": {},
   "outputs": [
    {
     "name": "stdout",
     "output_type": "stream",
     "text": [
      "6.08 µs ± 52.2 ns per loop (mean ± std. dev. of 7 runs, 100000 loops each)\n"
     ]
    }
   ],
   "source": [
    "%timeit validPalindrome(s)\n"
   ]
  },
  {
   "cell_type": "code",
   "execution_count": 20,
   "id": "bf301e23-56f1-4644-872b-bbd37329ac57",
   "metadata": {},
   "outputs": [],
   "source": [
    "##### 팰린드롬 풀이 2, result를 데크로, 이렇게하면 5배 정도 빠르다 "
   ]
  },
  {
   "cell_type": "code",
   "execution_count": 92,
   "id": "37b8aac1-98b2-461c-8f8f-4e548c57e083",
   "metadata": {},
   "outputs": [],
   "source": [
    "import collections\n",
    "\n",
    "def validPalindrome(s):\n",
    "    result: Deque = collections.deque()\n",
    "        \n",
    "    for char in s:\n",
    "        if char.isalnum():\n",
    "            result.append(char.lower())\n",
    "    \n",
    "    while len(result) > 1:\n",
    "        if result.popleft() != result.pop(): #popleft는 pop(0) 보다 실행시간이 짧다\n",
    "            return False\n",
    "        \n",
    "    return True"
   ]
  },
  {
   "cell_type": "code",
   "execution_count": 93,
   "id": "049a17ae-7ff1-48ff-abf2-3f2b8d797426",
   "metadata": {},
   "outputs": [
    {
     "name": "stdout",
     "output_type": "stream",
     "text": [
      "5.43 µs ± 75.6 ns per loop (mean ± std. dev. of 7 runs, 100000 loops each)\n"
     ]
    }
   ],
   "source": [
    "%timeit validPalindrome(s)"
   ]
  },
  {
   "cell_type": "markdown",
   "id": "94a01b64-5e3a-4363-9d52-76c8ece059dd",
   "metadata": {},
   "source": [
    "### 문자열 뒤집기"
   ]
  },
  {
   "cell_type": "code",
   "execution_count": 65,
   "id": "3657eb48-5bb3-4217-aeac-18d2d36543a7",
   "metadata": {},
   "outputs": [],
   "source": [
    "s1 = list(\"hello\") \n",
    "s2 = list(\"John\")"
   ]
  },
  {
   "cell_type": "markdown",
   "id": "827e4332-8de7-4be8-872d-28f4aac36dcc",
   "metadata": {},
   "source": [
    "### def reverseString(s):\n",
    "    result = []\n",
    "    for i in reversed(s):\n",
    "        result.append(i)\n",
    "        \n",
    "    return result"
   ]
  },
  {
   "cell_type": "code",
   "execution_count": 67,
   "id": "c46852e9-c474-4e1f-8657-c8d87e02a222",
   "metadata": {},
   "outputs": [
    {
     "data": {
      "text/plain": [
       "['o', 'l', 'l', 'e', 'h']"
      ]
     },
     "execution_count": 67,
     "metadata": {},
     "output_type": "execute_result"
    }
   ],
   "source": [
    "reverseString(s1)"
   ]
  },
  {
   "cell_type": "code",
   "execution_count": 68,
   "id": "f6676f14-86c1-49e6-a2f5-ffd6651cb31f",
   "metadata": {},
   "outputs": [
    {
     "data": {
      "text/plain": [
       "['n', 'h', 'o', 'J']"
      ]
     },
     "execution_count": 68,
     "metadata": {},
     "output_type": "execute_result"
    }
   ],
   "source": [
    "reverseString(s2)"
   ]
  },
  {
   "cell_type": "code",
   "execution_count": 69,
   "id": "00337f6f-f766-43f6-a130-b9a6b761a09c",
   "metadata": {},
   "outputs": [],
   "source": [
    "#투 포인터를 이용해서 풀이"
   ]
  },
  {
   "cell_type": "code",
   "execution_count": 70,
   "id": "fd54ce9d-87db-448c-8afb-d5491be31ad0",
   "metadata": {},
   "outputs": [],
   "source": [
    "def reverseString(s):\n",
    "    \n",
    "    left, right = 0, len(s) - 1\n",
    "    \n",
    "    while right > left:\n",
    "        s[left], s[right] = s[right], s[left]\n",
    "        left += 1\n",
    "        right -= 1\n"
   ]
  },
  {
   "cell_type": "markdown",
   "id": "18ea2c7b-8984-414f-9347-5a744eb7c8ab",
   "metadata": {},
   "source": [
    "### 로그 파일 재정렬"
   ]
  },
  {
   "cell_type": "code",
   "execution_count": 79,
   "id": "0a20aac5-49e5-40ff-a7f6-a75bb827bf00",
   "metadata": {},
   "outputs": [],
   "source": [
    "logs = [\"dig1 8 1 5 1\",\"let1 art can\",\"dig2 3 6\",\"let2 own kit dig\",\"let3 art zero\"]"
   ]
  },
  {
   "cell_type": "code",
   "execution_count": 108,
   "id": "ed5a6ae4-5717-4b9b-aaf4-72a7b4e35c1f",
   "metadata": {},
   "outputs": [],
   "source": [
    "def reorderLogFiles(logs):\n",
    "    contents = []\n",
    "    \n",
    "    for log in logs:\n",
    "        contents.append(log.split()[1:])\n",
    "        \n",
    "    print(contents)\n",
    "        "
   ]
  },
  {
   "cell_type": "code",
   "execution_count": 109,
   "id": "42754b18-6eb5-40c2-8401-7dece84e1560",
   "metadata": {},
   "outputs": [
    {
     "name": "stdout",
     "output_type": "stream",
     "text": [
      "[['8', '1', '5', '1'], ['art', 'can'], ['3', '6'], ['own', 'kit', 'dig'], ['art', 'zero']]\n"
     ]
    }
   ],
   "source": [
    "reorderLogFiles(logs)"
   ]
  },
  {
   "cell_type": "code",
   "execution_count": 127,
   "id": "f4f66546-e514-4e04-a6d2-698a6bf447c9",
   "metadata": {},
   "outputs": [],
   "source": [
    "def reorderLogFiles(logs):\n",
    "    digits = []\n",
    "    letters = []\n",
    "    \n",
    "    for log in logs:\n",
    "        if log.split()[1].isdigit():\n",
    "            digits.append(log)\n",
    "        else:\n",
    "            letters.append(log)\n",
    "            \n",
    "    print(digits)\n",
    "    print(letters)\n",
    "\n",
    "   "
   ]
  },
  {
   "cell_type": "code",
   "execution_count": 128,
   "id": "24151ae5-8692-4f84-92d5-b045b86a6a89",
   "metadata": {},
   "outputs": [
    {
     "name": "stdout",
     "output_type": "stream",
     "text": [
      "['dig1 8 1 5 1', 'dig2 3 6']\n",
      "['let1 art can', 'let2 own kit dig', 'let3 art zero']\n"
     ]
    }
   ],
   "source": [
    "reorderLogFiles(logs)"
   ]
  },
  {
   "cell_type": "code",
   "execution_count": 132,
   "id": "039f7b77-17ee-4007-a6b2-5ee474722c35",
   "metadata": {},
   "outputs": [],
   "source": [
    "def reorderLogFiles(logs):\n",
    "    digits = []\n",
    "    letters = []\n",
    "    result = []\n",
    "    \n",
    "    for log in logs:\n",
    "        if log.split()[1].isdigit():\n",
    "            digits.append(log)\n",
    "        else:\n",
    "            letters.append(log)\n",
    "            \n",
    "    return letters + digits\n",
    "   "
   ]
  },
  {
   "cell_type": "code",
   "execution_count": 133,
   "id": "fc085df9-215d-444e-b6fd-7fb8d0808731",
   "metadata": {},
   "outputs": [
    {
     "data": {
      "text/plain": [
       "['let1 art can',\n",
       " 'let2 own kit dig',\n",
       " 'let3 art zero',\n",
       " 'dig1 8 1 5 1',\n",
       " 'dig2 3 6']"
      ]
     },
     "execution_count": 133,
     "metadata": {},
     "output_type": "execute_result"
    }
   ],
   "source": [
    "reorderLogFiles(logs)"
   ]
  },
  {
   "cell_type": "code",
   "execution_count": 154,
   "id": "0189ada5-eede-4a44-9348-e7e3b51f832a",
   "metadata": {},
   "outputs": [],
   "source": [
    "def reorderLogFiles(logs):\n",
    "    digits = []\n",
    "    letters = []\n",
    "\n",
    "    for log in logs:\n",
    "        if log.split()[1].isdigit():\n",
    "            digits.append(log)\n",
    "        else:\n",
    "            letters.append(log)\n",
    "        \n",
    "    letters.sort(key=lambda x: (x.split()[1:], x.split()[0]))\n",
    "    \n",
    "    return letters + digits\n",
    "\n",
    "   "
   ]
  },
  {
   "cell_type": "code",
   "execution_count": 155,
   "id": "78464036-f435-42ee-9b32-a28010efdc33",
   "metadata": {},
   "outputs": [
    {
     "name": "stdout",
     "output_type": "stream",
     "text": [
      "None\n"
     ]
    },
    {
     "data": {
      "text/plain": [
       "['let1 art can',\n",
       " 'let3 art zero',\n",
       " 'let2 own kit dig',\n",
       " 'dig1 8 1 5 1',\n",
       " 'dig2 3 6']"
      ]
     },
     "execution_count": 155,
     "metadata": {},
     "output_type": "execute_result"
    }
   ],
   "source": [
    "reorderLogFiles(logs)"
   ]
  },
  {
   "cell_type": "code",
   "execution_count": null,
   "id": "cb296825-f5ab-424f-bcfc-e60790823ea0",
   "metadata": {},
   "outputs": [],
   "source": []
  }
 ],
 "metadata": {
  "kernelspec": {
   "display_name": "Python 3",
   "language": "python",
   "name": "python3"
  },
  "language_info": {
   "codemirror_mode": {
    "name": "ipython",
    "version": 3
   },
   "file_extension": ".py",
   "mimetype": "text/x-python",
   "name": "python",
   "nbconvert_exporter": "python",
   "pygments_lexer": "ipython3",
   "version": "3.8.8"
  }
 },
 "nbformat": 4,
 "nbformat_minor": 5
}
