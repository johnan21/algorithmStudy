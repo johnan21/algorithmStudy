{
 "cells": [
  {
   "cell_type": "markdown",
   "id": "0c33b343-fd48-427b-a42d-bad8c5cb977a",
   "metadata": {},
   "source": [
    "### 03 로그 파일 재정렬 p.148"
   ]
  },
  {
   "cell_type": "code",
   "execution_count": 1,
   "id": "b3838ecc-0d8c-4af9-a9c0-80793e54c610",
   "metadata": {},
   "outputs": [],
   "source": [
    "logs = [\"dig1 8 1 5 1\",\"let1 art can\",\"dig2 3 6\",\"let2 own kit dig\",\"let3 art zero\"]"
   ]
  },
  {
   "cell_type": "code",
   "execution_count": 25,
   "id": "d9fdc72d-ea88-474c-bed6-0514b39ddeee",
   "metadata": {
    "tags": []
   },
   "outputs": [],
   "source": [
    "def reorderLogFiles(logs):\n",
    "    digits = []\n",
    "    letters = []\n",
    "    \n",
    "    for log in logs:\n",
    "        if log.split()[1].isdigit():\n",
    "            digits.append(log)\n",
    "        else:\n",
    "            letters.append(log)\n",
    "            \n",
    "    letters = sorted(letters, key=lambda x: (x.split()[1:], x.split()[0]))\n",
    "    #letters.sort(key = lambda x: (x.split()[1:],x.split()[0]))\n",
    "    \n",
    "    return letters + digits"
   ]
  },
  {
   "cell_type": "code",
   "execution_count": 26,
   "id": "922432de-a403-453c-85a7-fb9fdf4ddcc5",
   "metadata": {},
   "outputs": [
    {
     "data": {
      "text/plain": [
       "['let1 art can',\n",
       " 'let3 art zero',\n",
       " 'let2 own kit dig',\n",
       " 'dig1 8 1 5 1',\n",
       " 'dig2 3 6']"
      ]
     },
     "execution_count": 26,
     "metadata": {},
     "output_type": "execute_result"
    }
   ],
   "source": [
    "reorderLogFiles(logs)"
   ]
  },
  {
   "cell_type": "markdown",
   "id": "b0f2dfa0-4831-4d10-a199-0e846dd1ad73",
   "metadata": {},
   "source": [
    "### 04 가장 흔한 단어 p.151"
   ]
  },
  {
   "cell_type": "code",
   "execution_count": 84,
   "id": "88f9da7f-c99c-49b1-a91d-c54488c3f421",
   "metadata": {},
   "outputs": [],
   "source": [
    "paragraph = \"Bob hit a ball, the hit BALL flew far after it was hit.\"\n",
    "banned = [\"hit\"]"
   ]
  },
  {
   "cell_type": "code",
   "execution_count": 82,
   "id": "5e81799c-a554-4c01-9429-61e1da54d0d0",
   "metadata": {},
   "outputs": [],
   "source": [
    "def mostCommonWord(pg,ban):\n",
    "    pg = pg.replace(\".\",\"\") \n",
    "    pg = pg.replace(\",\",\"\") #comma와 period 제거\n",
    "    words = [] \n",
    "    \n",
    "    for p in pg.lower().split():\n",
    "        if p not in ban:\n",
    "            words.append(p) #banned를 제외한 나머지 단어들\n",
    "    \n",
    "    return words"
   ]
  },
  {
   "cell_type": "code",
   "execution_count": 83,
   "id": "56b3fb37-b296-4974-a6b3-6c51c19a9b18",
   "metadata": {},
   "outputs": [
    {
     "data": {
      "text/plain": [
       "['bob', 'a', 'ball', 'the', 'ball', 'flew', 'far', 'after', 'it', 'was']"
      ]
     },
     "execution_count": 83,
     "metadata": {},
     "output_type": "execute_result"
    }
   ],
   "source": [
    "mostCommonWord(paragraph,banned)"
   ]
  },
  {
   "cell_type": "code",
   "execution_count": 135,
   "id": "ea37c9c1-bb08-4f90-94c9-c665b05ae42a",
   "metadata": {},
   "outputs": [],
   "source": [
    "def mostCommonWord(pg,ban):\n",
    "    for i in \"!?.';:,\":\n",
    "        pg = pg.replace(i,\" \")\n",
    "        \n",
    "    words = []\n",
    "    counter = 0\n",
    "    \n",
    "    for p in pg.lower().split():\n",
    "        if p not in ban:\n",
    "            words.append(p)\n",
    "\n",
    "    for word in words:\n",
    "        if words.count(word) > counter: #words안의 모든 word의 빈도수를 확인하고 빈도수가 제일 높은 단어가 mcw에 들어가게 함. 제일 높은 단어의 빈도수를 카운터에 넣어서 더 낮은 빈도수의 단어가 나왔을때 이프문이 돌아가지 않게 함.\n",
    "            mcw = word \n",
    "            counter = words.count(word)\n",
    "        \n",
    "    print(mcw)\n",
    "            "
   ]
  },
  {
   "cell_type": "code",
   "execution_count": 136,
   "id": "6f3dc986-8776-4e9b-8cd3-61492667b1eb",
   "metadata": {},
   "outputs": [
    {
     "name": "stdout",
     "output_type": "stream",
     "text": [
      "ball\n"
     ]
    }
   ],
   "source": [
    "mostCommonWord(paragraph,banned)"
   ]
  },
  {
   "cell_type": "markdown",
   "id": "540047fc-e4d5-4ed8-be9c-ccbc2fa1f13d",
   "metadata": {},
   "source": [
    "#### 교재 풀이 1 - 리스트 컴프리헨션, Counter객체 사용"
   ]
  },
  {
   "cell_type": "code",
   "execution_count": 141,
   "id": "c33ca9d2-afa1-42d9-93b3-cb6069af08b0",
   "metadata": {},
   "outputs": [],
   "source": [
    "def mostCommonWord(paragraph, banned):\n",
    "    \n",
    "    words = [word for word in re.sub(r'[^\\w]',' ', paragraph) \n",
    "        .lower().split()\n",
    "            if word not in banned]\n",
    "    \n",
    "    counts = collections.Counter(words)\n",
    "    # 가장 흔하게 등장하는 단어의 첫 번째 인덱스 리턴\n",
    "    return counts.most_common(1)[0][0]"
   ]
  },
  {
   "cell_type": "code",
   "execution_count": 142,
   "id": "8dd11c73-671f-46b3-b3e4-b23e4d5d412f",
   "metadata": {},
   "outputs": [
    {
     "data": {
      "text/plain": [
       "'ball'"
      ]
     },
     "execution_count": 142,
     "metadata": {},
     "output_type": "execute_result"
    }
   ],
   "source": [
    "mostCommonWord(paragraph,banned)"
   ]
  },
  {
   "cell_type": "code",
   "execution_count": 143,
   "id": "2a4b3bf8-ca1f-47e0-90ac-1f20f9f86585",
   "metadata": {},
   "outputs": [
    {
     "data": {
      "text/plain": [
       "<module 'collections' from 'C:\\\\Users\\\\JohnA\\\\anaconda3\\\\lib\\\\collections\\\\__init__.py'>"
      ]
     },
     "execution_count": 143,
     "metadata": {},
     "output_type": "execute_result"
    }
   ],
   "source": [
    "collections"
   ]
  },
  {
   "cell_type": "markdown",
   "id": "e31ca014-f0db-418c-8922-ff9c5aff0065",
   "metadata": {},
   "source": [
    "### 05 그룹 애너그램 p.153"
   ]
  },
  {
   "cell_type": "markdown",
   "id": "ac29613e-779d-4186-903f-37ec891268cb",
   "metadata": {},
   "source": [
    "문자열 배열을 받아 애너그램 단위로 그룹핑하라."
   ]
  },
  {
   "cell_type": "code",
   "execution_count": 181,
   "id": "62e15fd4-efc6-4b14-a656-39efad52a677",
   "metadata": {},
   "outputs": [],
   "source": [
    "input = [\"eat\",\"tea\",\"tan\",\"ate\",\"nat\",\"bat\"]"
   ]
  },
  {
   "cell_type": "code",
   "execution_count": 248,
   "id": "411038fb-f7ec-4250-ae72-6bbfbe85c6e4",
   "metadata": {
    "tags": []
   },
   "outputs": [],
   "source": [
    "def groupAnagrams(input):\n",
    "    d = {}\n",
    "    \n",
    "    for word in input:\n",
    "        key = ''.join(sorted(word))\n",
    "        if key not in d:\n",
    "            d[key] = [word]\n",
    "        else:\n",
    "            d[key] += [word]\n",
    "\n",
    "    return list(d.values())\n"
   ]
  },
  {
   "cell_type": "code",
   "execution_count": 249,
   "id": "1140d34e-6ddb-4eea-b272-df25aaa25c0f",
   "metadata": {},
   "outputs": [
    {
     "data": {
      "text/plain": [
       "[['eat', 'tea', 'ate'], ['tan', 'nat'], ['bat']]"
      ]
     },
     "execution_count": 249,
     "metadata": {},
     "output_type": "execute_result"
    }
   ],
   "source": [
    "groupAnagrams(input)"
   ]
  },
  {
   "cell_type": "code",
   "execution_count": 250,
   "id": "be3960a1-58c7-4198-9893-5f40998da62e",
   "metadata": {},
   "outputs": [],
   "source": [
    "def groupAnagrams(input):\n",
    "    anagrams = collections.defaultdict(list)\n",
    "    \n",
    "    for word in input:\n",
    "        #정렬하여 딕셔너리에 추가\n",
    "        anagrams[''.join(sorted(word))].append(word)\n",
    "    return list(anagrams.values())"
   ]
  },
  {
   "cell_type": "code",
   "execution_count": 251,
   "id": "2a4a2156-5dd8-41d6-8d28-27a2cfbc134c",
   "metadata": {},
   "outputs": [
    {
     "data": {
      "text/plain": [
       "[['eat', 'tea', 'ate'], ['tan', 'nat'], ['bat']]"
      ]
     },
     "execution_count": 251,
     "metadata": {},
     "output_type": "execute_result"
    }
   ],
   "source": [
    "groupAnagrams(input)"
   ]
  },
  {
   "cell_type": "code",
   "execution_count": null,
   "id": "544cc56e-96b4-4bf6-ae25-90587c575863",
   "metadata": {},
   "outputs": [],
   "source": []
  }
 ],
 "metadata": {
  "kernelspec": {
   "display_name": "Python 3",
   "language": "python",
   "name": "python3"
  },
  "language_info": {
   "codemirror_mode": {
    "name": "ipython",
    "version": 3
   },
   "file_extension": ".py",
   "mimetype": "text/x-python",
   "name": "python",
   "nbconvert_exporter": "python",
   "pygments_lexer": "ipython3",
   "version": "3.8.8"
  }
 },
 "nbformat": 4,
 "nbformat_minor": 5
}
